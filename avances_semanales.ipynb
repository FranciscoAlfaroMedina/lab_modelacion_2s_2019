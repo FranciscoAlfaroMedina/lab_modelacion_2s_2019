{
 "cells": [
  {
   "cell_type": "markdown",
   "metadata": {},
   "source": [
    "<img src=\"material/images/usm.png\" width=\"480\" height=\"240\" align=\"left\"/>"
   ]
  },
  {
   "cell_type": "markdown",
   "metadata": {},
   "source": [
    "# MAT282 - 2° Semestre 2019\n",
    "## Laboratorio de Modelación l\n",
    "\n",
    "\n",
    "## Contenidos\n",
    "\n",
    "* [Objetivos](#objetivos)\n",
    "* [Avances ](#avances)\n"
   ]
  },
  {
   "cell_type": "markdown",
   "metadata": {},
   "source": [
    "<a id='objetivos'></a>\n",
    "## I.- Objetivos\n",
    "\n",
    "* EL objetivo de este repositorio es monitorear los avances de los alumnos del curso. \n",
    "* Para eso se evaluará semana a semana los distintas tareas asignadas.\n",
    "\n",
    "### Explicación de las carpetas\n",
    "\n",
    "* **Material**: Esta es una carpeta básica homóloga para todos los alumnos del curso. Se presenta material básico sobre python y sus librerías.\n",
    "\n",
    "* **Proyectos**: Esta es una carpeta especializada por cada alumno en el curso. Es acá donde tendrán que ir subiendo los avances de los distintos proyectos. \n",
    "\n",
    "\n"
   ]
  },
  {
   "cell_type": "markdown",
   "metadata": {},
   "source": [
    "<a id='avances'></a>\n",
    "## II.- Avances\n",
    "\n",
    "## Semana 01\n",
    "\n",
    "### Descripción\n",
    "La primera semana tendrá como objetivo que se familiaricen con python y sus principales librerías. Además, de familiarizarse con jupyter notebbok (jupyter lab), ambientes virtuales y github.\n",
    "\n",
    "### Tareas\n",
    "\n",
    "1. Crear una cuenta en github  y crear un proyecto que se llame igual al proyecto asignado a este curso.\n",
    "2. Descargar [Anaconda](https://www.anaconda.com/distribution/).\n",
    "3. Una vez descagado Anaconda, crear un ambiente virtual en python denominado **lab_modelacion** (para más información revisar el siguiente link:  [virtual_env](https://packaging.python.org/guides/installing-using-pip-and-virtual-environments/\n",
    ").)\n",
    "4. Crear un archivo jupyter notebook denominado **primeras_practicas.ipynb** en su repositorio, en donde expliquen a grandes rasgos:\n",
    "    * Cómo instalar un ambiente virtual en python\n",
    "    * Cómo manejar un proyecto en github\n",
    "    * Cómo funciona las librerias  numpy, pandas y matplotlib (Para más detalles vea en la carpeta **material**)\n",
    "\n",
    "\n",
    "\n"
   ]
  }
 ],
 "metadata": {
  "kernelspec": {
   "display_name": "Python 3",
   "language": "python",
   "name": "python3"
  },
  "language_info": {
   "codemirror_mode": {
    "name": "ipython",
    "version": 3
   },
   "file_extension": ".py",
   "mimetype": "text/x-python",
   "name": "python",
   "nbconvert_exporter": "python",
   "pygments_lexer": "ipython3",
   "version": "3.6.8"
  }
 },
 "nbformat": 4,
 "nbformat_minor": 2
}
